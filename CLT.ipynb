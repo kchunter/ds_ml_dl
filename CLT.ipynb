{
 "cells": [
  {
   "cell_type": "markdown",
   "metadata": {},
   "source": [
    "Let's now use knowledge about CLT on one interesting business case.\n",
    "\n",
    "\"You are a Business Analyst working for FedEx. A business client has a requested a large freight to be transported urgently from Denver to Salt Lake City. When asked about the weight of the cargo they could not supply the exact weight, however they have specified that there are a total of 36 boxes. From prior experience with this client you know that this type of cargo follows a distribution with mean of mu = 72 lb (32.66 kg) and std. dev of sigma = 3 lb (1.36 kg). The only plane you currently have at Denver is a Cessna 208B Grand Caravan with a max cargo weight of 2,630 lb (1,193 kg).\n",
    "Based on this information what is the probability that all of the cargo can be safely loaded onto the plane and transported?\""
   ]
  },
  {
   "cell_type": "code",
   "execution_count": 4,
   "metadata": {},
   "outputs": [],
   "source": [
    "import numpy as np"
   ]
  },
  {
   "cell_type": "code",
   "execution_count": 5,
   "metadata": {},
   "outputs": [],
   "source": [
    "mu = 72\n",
    "sigma = 3\n",
    "max_cargo_weight = 2630\n",
    "n = 36"
   ]
  },
  {
   "cell_type": "code",
   "execution_count": 6,
   "metadata": {},
   "outputs": [],
   "source": [
    "#CLT properties\n",
    "mu_x_bar = mu\n",
    "sigma_x_bar = sigma / np.sqrt(n)"
   ]
  },
  {
   "cell_type": "code",
   "execution_count": 7,
   "metadata": {},
   "outputs": [],
   "source": [
    "x_critical = max_cargo_weight / n "
   ]
  },
  {
   "cell_type": "code",
   "execution_count": 8,
   "metadata": {},
   "outputs": [],
   "source": [
    "z_score = (x_critical - mu_x_bar) / sigma_x_bar #Z-Score for x_critical value. Basically, it means how many standard deviations from the mean our point is.\n"
   ]
  },
  {
   "cell_type": "code",
   "execution_count": 9,
   "metadata": {},
   "outputs": [
    {
     "data": {
      "text/plain": [
       "2.1111111111111143"
      ]
     },
     "execution_count": 9,
     "metadata": {},
     "output_type": "execute_result"
    }
   ],
   "source": [
    "z_score #x_critical is 2.11 standard deviations from the mean (Sampling distribution of the sample mean)"
   ]
  },
  {
   "cell_type": "markdown",
   "metadata": {},
   "source": [
    "Now, we have to look into Z-Table to see what is the probability of getting value that is equal to or lower than x_critical. \n",
    "P(any_x_value <= x_critical) = 0.9826 or 98.26%."
   ]
  }
 ],
 "metadata": {
  "kernelspec": {
   "display_name": "Python 3",
   "language": "python",
   "name": "python3"
  },
  "language_info": {
   "codemirror_mode": {
    "name": "ipython",
    "version": 3
   },
   "file_extension": ".py",
   "mimetype": "text/x-python",
   "name": "python",
   "nbconvert_exporter": "python",
   "pygments_lexer": "ipython3",
   "version": "3.6.7"
  }
 },
 "nbformat": 4,
 "nbformat_minor": 2
}
