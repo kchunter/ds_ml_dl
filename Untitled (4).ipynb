{
 "cells": [
  {
   "cell_type": "markdown",
   "metadata": {},
   "source": [
    "Proportion Testing (Z-TEST) (ONE-TAILED)\n",
    "-------------------------------------------------------------"
   ]
  },
  {
   "cell_type": "markdown",
   "metadata": {},
   "source": [
    "CASE: Your manager has asked you to test the Hypothesis (with a 97% confidence level) that only 58% of American homes have tablet devices. You surveyed 100 random households and found that 73 of them had tablets."
   ]
  },
  {
   "cell_type": "markdown",
   "metadata": {},
   "source": [
    "H0: p <= .58 (null hypothesis) \n",
    "H1: p > .58 (alternative hypothesis)\n",
    "\n",
    "In this case, \"p\" represents proportion, not a p-value.\n",
    "\n",
    "Note: We will again harness the power of the Central Limit Theorem (CLT)\n",
    "\n",
    "First things first, we have to check two things:\n",
    "- n * p_bar > 10\n",
    "- n * q_bar > 10\n",
    "\n",
    "n = 100\n",
    "p_bar = .73\n",
    "q_bar = 1 - .73 = .27\n",
    "\n",
    "n * p_bar = 73 which is greater than 10 [CHECKED]\n",
    "n * q_bar = 27 which is also greater than 10 [CHECKED]\n",
    "\n",
    "Solution to this problem is simple, just increase your sample size."
   ]
  },
  {
   "cell_type": "code",
   "execution_count": 2,
   "metadata": {},
   "outputs": [],
   "source": [
    "import math"
   ]
  },
  {
   "cell_type": "code",
   "execution_count": 3,
   "metadata": {},
   "outputs": [],
   "source": [
    "p = .58\n",
    "q = 1 - p\n",
    "n = 100\n",
    "alpha = .03 #Significance level. Calculated as: 1 - confidence level."
   ]
  },
  {
   "cell_type": "code",
   "execution_count": 16,
   "metadata": {},
   "outputs": [],
   "source": [
    "mu = mu_p_bar = p = .58\n",
    "sigma = math.sqrt(p * q)"
   ]
  },
  {
   "cell_type": "code",
   "execution_count": 5,
   "metadata": {},
   "outputs": [
    {
     "data": {
      "text/plain": [
       "0.04935585071701227"
      ]
     },
     "execution_count": 5,
     "metadata": {},
     "output_type": "execute_result"
    }
   ],
   "source": [
    "sigma_p_bar = sigma / math.sqrt(n) #That standard deviation is also called STANDARD ERROR.\n",
    "sigma_p_bar"
   ]
  },
  {
   "cell_type": "code",
   "execution_count": 6,
   "metadata": {},
   "outputs": [],
   "source": [
    "p_bar = .73"
   ]
  },
  {
   "cell_type": "markdown",
   "metadata": {},
   "source": [
    "Even without calculating anything else, we can see that p_bar differs a lot from the mu_p_bar. Standard deviations is also relatively small."
   ]
  },
  {
   "cell_type": "code",
   "execution_count": 7,
   "metadata": {},
   "outputs": [
    {
     "data": {
      "text/plain": [
       "3.039153369274154"
      ]
     },
     "execution_count": 7,
     "metadata": {},
     "output_type": "execute_result"
    }
   ],
   "source": [
    "z_score = (p_bar - mu_p_bar) / sigma_p_bar #Z-Score for p_bar\n",
    "z_score"
   ]
  },
  {
   "cell_type": "code",
   "execution_count": 8,
   "metadata": {},
   "outputs": [],
   "source": [
    "z_critical = 1.88 #Z-Score for our critical value (97% confidence level)"
   ]
  },
  {
   "cell_type": "code",
   "execution_count": 9,
   "metadata": {},
   "outputs": [
    {
     "data": {
      "text/plain": [
       "True"
      ]
     },
     "execution_count": 9,
     "metadata": {},
     "output_type": "execute_result"
    }
   ],
   "source": [
    "z_score >= z_critical"
   ]
  },
  {
   "cell_type": "markdown",
   "metadata": {},
   "source": [
    "Z-Score for our p_hat is greater than or equal to Z-Score of critical value. It (p_bar) falls into rejection region so we can reject the null hypothesis (H0)."
   ]
  },
  {
   "cell_type": "code",
   "execution_count": 17,
   "metadata": {},
   "outputs": [
    {
     "data": {
      "text/plain": [
       "0.0011999999999999789"
      ]
     },
     "execution_count": 17,
     "metadata": {},
     "output_type": "execute_result"
    }
   ],
   "source": [
    "p_value = 1 - .9988 #It is different than already seen p from above. p is proportion whereas p_value is probability value.\n",
    "p_value"
   ]
  },
  {
   "cell_type": "markdown",
   "metadata": {},
   "source": [
    "99.8% of the time you'd run this experiment, you would not get this value (p_bar)."
   ]
  },
  {
   "cell_type": "code",
   "execution_count": 11,
   "metadata": {},
   "outputs": [
    {
     "data": {
      "text/plain": [
       "True"
      ]
     },
     "execution_count": 11,
     "metadata": {},
     "output_type": "execute_result"
    }
   ],
   "source": [
    "p_value <= alpha"
   ]
  },
  {
   "cell_type": "markdown",
   "metadata": {},
   "source": [
    "Because p_value is less than or equal to alpha, out result is statistically significant and thereby it allows us to reject the null hypothesis. It is highly improbable obtaining that result if the null hypothesis is assumed to be true."
   ]
  }
 ],
 "metadata": {
  "kernelspec": {
   "display_name": "Python 3",
   "language": "python",
   "name": "python3"
  },
  "language_info": {
   "codemirror_mode": {
    "name": "ipython",
    "version": 3
   },
   "file_extension": ".py",
   "mimetype": "text/x-python",
   "name": "python",
   "nbconvert_exporter": "python",
   "pygments_lexer": "ipython3",
   "version": "3.6.7"
  }
 },
 "nbformat": 4,
 "nbformat_minor": 2
}
