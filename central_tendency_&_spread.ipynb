{
 "cells": [
  {
   "cell_type": "code",
   "execution_count": 2,
   "metadata": {},
   "outputs": [],
   "source": [
    "arr = [2, 4, 2, 7, 7, 13, 11, 7, 1, 5, 14, 13, 15]"
   ]
  },
  {
   "cell_type": "code",
   "execution_count": 3,
   "metadata": {},
   "outputs": [
    {
     "data": {
      "text/plain": [
       "[1, 2, 2, 4, 5, 7, 7, 7, 11, 13, 13, 14, 15]"
      ]
     },
     "execution_count": 3,
     "metadata": {},
     "output_type": "execute_result"
    }
   ],
   "source": [
    "arr.sort()\n",
    "arr"
   ]
  },
  {
   "cell_type": "code",
   "execution_count": 4,
   "metadata": {},
   "outputs": [
    {
     "data": {
      "text/plain": [
       "13"
      ]
     },
     "execution_count": 4,
     "metadata": {},
     "output_type": "execute_result"
    }
   ],
   "source": [
    "size = len(arr)\n",
    "size"
   ]
  },
  {
   "cell_type": "code",
   "execution_count": 5,
   "metadata": {},
   "outputs": [
    {
     "data": {
      "text/plain": [
       "7.769230769230769"
      ]
     },
     "execution_count": 5,
     "metadata": {},
     "output_type": "execute_result"
    }
   ],
   "source": [
    "arithmetic_mean = sum([i for i in arr]) / size\n",
    "arithmetic_mean"
   ]
  },
  {
   "cell_type": "code",
   "execution_count": 6,
   "metadata": {},
   "outputs": [
    {
     "data": {
      "text/plain": [
       "7"
      ]
     },
     "execution_count": 6,
     "metadata": {},
     "output_type": "execute_result"
    }
   ],
   "source": [
    "median = arr[size // 2] if size % 2 else (arr[size // 2 - 1] + arr[size // 2]) / 2\n",
    "median"
   ]
  },
  {
   "cell_type": "code",
   "execution_count": 7,
   "metadata": {},
   "outputs": [
    {
     "data": {
      "text/plain": [
       "7"
      ]
     },
     "execution_count": 7,
     "metadata": {},
     "output_type": "execute_result"
    }
   ],
   "source": [
    "mode = max(set(arr), key=arr.count)\n",
    "mode        "
   ]
  },
  {
   "cell_type": "markdown",
   "metadata": {},
   "source": [
    "Mean, Median And Mode - Measures of Central Tendency\n",
    "\n",
    "Median is a better option for skewed data. It is more resilient to outliers. On the other side, mean is better for symmetrical data, without outliers.\n",
    "\n",
    "Mode makes sense when we have ordinal type of data. Also we can have multi-modal distributions. Ex. bimodal distribution which have two distinct peaks.\n",
    "\n",
    "Mean, Median And Mode are roughly equal on normal distribution"
   ]
  },
  {
   "cell_type": "code",
   "execution_count": 8,
   "metadata": {},
   "outputs": [
    {
     "data": {
      "text/plain": [
       "18.463359126081016"
      ]
     },
     "execution_count": 8,
     "metadata": {},
     "output_type": "execute_result"
    }
   ],
   "source": [
    "variance = ((arr[0] - arithmetic_mean)**2 + (arr[1] - arithmetic_mean)**2 +\n",
    "            (arr[2] - arithmetic_mean)**2 + (arr[3] - arithmetic_mean)**2 +\n",
    "            (arr[4] - arithmetic_mean)**2 + (arr[5] - arithmetic_mean)**2 +\n",
    "            (arr[6] - arithmetic_mean)**2 + (arr[7] - arithmetic_mean)**2 +\n",
    "            (arr[8] - arithmetic_mean)**2 + (arr[9] - arithmetic_mean)**2 +\n",
    "            (arr[10] - arithmetic_mean)**2 + (arr[11] - arithmetic_mean)**2\n",
    "           ) / size\n",
    "variance #Variance represents the average squared deviation from the mean\n",
    "#Note: That is formula for population variance (sigma squared). \n",
    "#For sample variance, denominator is size - 1 (n - 1).\n",
    "#This procedure is called Bessel's correction.\n"
   ]
  },
  {
   "cell_type": "code",
   "execution_count": 9,
   "metadata": {},
   "outputs": [],
   "source": [
    "import math"
   ]
  },
  {
   "cell_type": "code",
   "execution_count": 10,
   "metadata": {},
   "outputs": [
    {
     "data": {
      "text/plain": [
       "4.296901107319206"
      ]
     },
     "execution_count": 10,
     "metadata": {},
     "output_type": "execute_result"
    }
   ],
   "source": [
    "standard_deviation = math.sqrt(variance)\n",
    "standard_deviation #Standard deviation is the square root of the variance.\n",
    "#We calculate standard deviation because it is in same units as mean unlike variance."
   ]
  },
  {
   "cell_type": "code",
   "execution_count": 11,
   "metadata": {},
   "outputs": [
    {
     "data": {
      "text/plain": [
       "14"
      ]
     },
     "execution_count": 11,
     "metadata": {},
     "output_type": "execute_result"
    }
   ],
   "source": [
    "range_ = max(arr) - min(arr)\n",
    "range_"
   ]
  },
  {
   "cell_type": "code",
   "execution_count": 12,
   "metadata": {},
   "outputs": [
    {
     "data": {
      "text/plain": [
       "10.0"
      ]
     },
     "execution_count": 12,
     "metadata": {},
     "output_type": "execute_result"
    }
   ],
   "source": [
    "IQR = (((arr[size * 3 // 4] + arr[size * 3 // 4 + 1]) / 2) - ((arr[size // 4 - 1] + arr[size // 4]) / 2)) if size % 2 else (arr[size * 3 // 4] - arr[size // 4 - 1])\n",
    "IQR"
   ]
  },
  {
   "cell_type": "code",
   "execution_count": 14,
   "metadata": {},
   "outputs": [
    {
     "data": {
      "text/plain": [
       "0.5530664791598978"
      ]
     },
     "execution_count": 14,
     "metadata": {},
     "output_type": "execute_result"
    }
   ],
   "source": [
    "coef_of_var = standard_deviation / arithmetic_mean\n",
    "coef_of_var #Coefficient of variation, also known as relative standard deviation"
   ]
  },
  {
   "cell_type": "markdown",
   "metadata": {},
   "source": [
    "Range, IQR (Interquartile range), variance, standard deviation And coefficient of determination - Measures of Spread"
   ]
  }
 ],
 "metadata": {
  "kernelspec": {
   "display_name": "Python 3",
   "language": "python",
   "name": "python3"
  },
  "language_info": {
   "codemirror_mode": {
    "name": "ipython",
    "version": 3
   },
   "file_extension": ".py",
   "mimetype": "text/x-python",
   "name": "python",
   "nbconvert_exporter": "python",
   "pygments_lexer": "ipython3",
   "version": "3.6.7"
  }
 },
 "nbformat": 4,
 "nbformat_minor": 2
}
