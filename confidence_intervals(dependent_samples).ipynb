{
 "cells": [
  {
   "cell_type": "markdown",
   "metadata": {},
   "source": [
    "# Confidence interval for difference of two means, dependent samples\n",
    "\n",
    "Magnesium example\n",
    "\n",
    "\n",
    "  P      |   Befo   |  Afte   |     Diff\n",
    "  ______________________________________\n",
    "\n",
    "   0     |   2.00   |  1.70   |    -0.30\n",
    "   \n",
    "   1     |   1.40   |  1.70   |     0.30\n",
    "   \n",
    "   2     |   1.30   |  1.80   |     0.50\n",
    "   \n",
    "   3     |   1.10   |  1.30   |     0.20\n",
    "   \n",
    "   4     |   1.80   |  1.70   |    -0.10\n",
    "   \n",
    "   5     |   1.60   |  1.50   |    -0.10\n",
    "   \n",
    "   6     |   1.50   |  1.60   |     0.10\n",
    "   \n",
    "   7     |   0.70   |  1.70   |     1.00\n",
    "   \n",
    "   8     |   0.90   |  1.70   |     0.80\n",
    "   \n",
    "   9     |   1.50   |  2.40   |     0.90   \n",
    "  ______________________________________   \n",
    "\n",
    "*P = Patient\n",
    "\n",
    "*Befo = Before (Magnesium level before taking pill)\n",
    "\n",
    "*Afte = After (Magnesium level after taking pill)\n",
    "\n",
    "*Diff = Difference"
   ]
  },
  {
   "cell_type": "code",
   "execution_count": 1,
   "metadata": {},
   "outputs": [],
   "source": [
    "differences = [-.30, .30, .50, .20, -.10, -.10, .10, 1., .80, .90]"
   ]
  },
  {
   "cell_type": "code",
   "execution_count": 2,
   "metadata": {},
   "outputs": [],
   "source": [
    "import numpy as np"
   ]
  },
  {
   "cell_type": "code",
   "execution_count": 3,
   "metadata": {},
   "outputs": [
    {
     "data": {
      "text/plain": [
       "0.33"
      ]
     },
     "execution_count": 3,
     "metadata": {},
     "output_type": "execute_result"
    }
   ],
   "source": [
    "x_bar = np.mean(differences)\n",
    "x_bar"
   ]
  },
  {
   "cell_type": "code",
   "execution_count": 4,
   "metadata": {},
   "outputs": [
    {
     "data": {
      "text/plain": [
       "0.45472824607426554"
      ]
     },
     "execution_count": 4,
     "metadata": {},
     "output_type": "execute_result"
    }
   ],
   "source": [
    "s = np.std(differences, ddof=1)\n",
    "s"
   ]
  },
  {
   "cell_type": "code",
   "execution_count": 5,
   "metadata": {},
   "outputs": [],
   "source": [
    "alpha = .05 #Significance level"
   ]
  },
  {
   "cell_type": "code",
   "execution_count": 6,
   "metadata": {},
   "outputs": [],
   "source": [
    "n = 10"
   ]
  },
  {
   "cell_type": "markdown",
   "metadata": {},
   "source": [
    "Sample size is less than 30 so we'll use student's t distribution and t test for confidence level calculation."
   ]
  },
  {
   "cell_type": "code",
   "execution_count": 7,
   "metadata": {},
   "outputs": [],
   "source": [
    "t_crit = 2.262"
   ]
  },
  {
   "cell_type": "code",
   "execution_count": 8,
   "metadata": {},
   "outputs": [
    {
     "data": {
      "text/plain": [
       "0.14379769740081993"
      ]
     },
     "execution_count": 8,
     "metadata": {},
     "output_type": "execute_result"
    }
   ],
   "source": [
    "standard_error = s / np.sqrt(n) #Standard deviation of the sampling distribution\n",
    "standard_error"
   ]
  },
  {
   "cell_type": "code",
   "execution_count": 9,
   "metadata": {},
   "outputs": [
    {
     "data": {
      "text/plain": [
       "0.3252703915206547"
      ]
     },
     "execution_count": 9,
     "metadata": {},
     "output_type": "execute_result"
    }
   ],
   "source": [
    "margin_of_error = t_crit * standard_error \n",
    "margin_of_error"
   ]
  },
  {
   "cell_type": "markdown",
   "metadata": {},
   "source": [
    "x_bar +- margin of error is our 95% confidence interval"
   ]
  },
  {
   "cell_type": "code",
   "execution_count": 10,
   "metadata": {},
   "outputs": [
    {
     "name": "stdout",
     "output_type": "stream",
     "text": [
      "(0.0047296084793453375, 0.6552703915206547)\n"
     ]
    }
   ],
   "source": [
    "lower_bound = x_bar - margin_of_error\n",
    "upper_bound = x_bar + margin_of_error\n",
    "\n",
    "print(f\"({lower_bound}, {upper_bound})\")"
   ]
  },
  {
   "cell_type": "markdown",
   "metadata": {},
   "source": [
    "In 95% of the cases, the true mean will fall in this interval\n",
    "\n",
    "The whole interval is positive. This shows that the true mean of the differences is definitely positive, therefore with 95% certainty we can say that the levels of magnesium in the test subjects blood is higher.\n",
    "\n",
    "Based on our small sample, the pill is EFFECTIVE"
   ]
  },
  {
   "cell_type": "code",
   "execution_count": null,
   "metadata": {},
   "outputs": [],
   "source": []
  }
 ],
 "metadata": {
  "kernelspec": {
   "display_name": "Python 3",
   "language": "python",
   "name": "python3"
  },
  "language_info": {
   "codemirror_mode": {
    "name": "ipython",
    "version": 3
   },
   "file_extension": ".py",
   "mimetype": "text/x-python",
   "name": "python",
   "nbconvert_exporter": "python",
   "pygments_lexer": "ipython3",
   "version": "3.6.7"
  }
 },
 "nbformat": 4,
 "nbformat_minor": 2
}
