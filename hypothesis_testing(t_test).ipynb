{
 "cells": [
  {
   "cell_type": "markdown",
   "metadata": {},
   "source": [
    "HYPOTHESIS TESTING (T-TEST)(ONE-TAILED)\n",
    "------------------------------------------------------------------"
   ]
  },
  {
   "cell_type": "markdown",
   "metadata": {},
   "source": [
    "Student's t-Distribution\n",
    "\n",
    "- Heavier tails\n",
    "- Describes a sample\n",
    "- The larger the sample, closer it is to a normal distribution\n",
    "\n",
    "As we have 30 degrees of freedom (sample size of 31; degrees of freedom = sample size -  1) t-distribution is almost the same as normal distribution.\n",
    "\n",
    "Use the t-distribution (t-test) when:\n",
    "\n",
    "- Population standard deviation is unknown && the sample size is small (n < 30)\n",
    "\n",
    "If you don't know standard deviation but your sample size is greater than 30, you can use normal distribution (z-test). You can approximate population standard deviation from sample standard deviation."
   ]
  },
  {
   "cell_type": "markdown",
   "metadata": {},
   "source": [
    "CASE: It is recommended to walk 10,000 steps a day to be healthy. You are wondering if on average Americans are meeting this recommendation. You surveyed 10 random people about how many steps each of them takes per day on average and got the following responses:\n",
    "\n",
    "7,900 8,200 11,350 10,150 8,200 9,600 6,950 6,200 8,950 8,450\n",
    "\n",
    "It is evident that within your sample on average respondents are taking less than 10,000 steps. But can you infer the same for the whole population of America?"
   ]
  },
  {
   "cell_type": "markdown",
   "metadata": {},
   "source": [
    "H0: mu >= 10,000 steps\n",
    "H1: mu < 10,000 steps\n"
   ]
  },
  {
   "cell_type": "code",
   "execution_count": 2,
   "metadata": {},
   "outputs": [],
   "source": [
    "mu = 10000"
   ]
  },
  {
   "cell_type": "code",
   "execution_count": 3,
   "metadata": {},
   "outputs": [],
   "source": [
    "sample = [7900, 8200, 11350, 10150, 8200, 9600, 6950, 6200, 8950, 8450]"
   ]
  },
  {
   "cell_type": "code",
   "execution_count": 4,
   "metadata": {},
   "outputs": [],
   "source": [
    "n = len(sample) #Sample size\n",
    "v = n - 1 #Degrees of freedom. It is not always case that degrees of \n",
    "#freedom is equal to sample size - 1, but in this cases (hypothesis testing)\n",
    "#it is."
   ]
  },
  {
   "cell_type": "code",
   "execution_count": 5,
   "metadata": {},
   "outputs": [],
   "source": [
    "import numpy as np"
   ]
  },
  {
   "cell_type": "code",
   "execution_count": 6,
   "metadata": {},
   "outputs": [
    {
     "data": {
      "text/plain": [
       "1505.6283295244768"
      ]
     },
     "execution_count": 6,
     "metadata": {},
     "output_type": "execute_result"
    }
   ],
   "source": [
    "s = np.std(sample, ddof=1)\n",
    "s #Sample standard deviation. We will use it as approximation of population standard deviation"
   ]
  },
  {
   "cell_type": "code",
   "execution_count": 7,
   "metadata": {},
   "outputs": [
    {
     "data": {
      "text/plain": [
       "8595.0"
      ]
     },
     "execution_count": 7,
     "metadata": {},
     "output_type": "execute_result"
    }
   ],
   "source": [
    "x_bar = np.mean(sample)\n",
    "x_bar #Sample mean"
   ]
  },
  {
   "cell_type": "code",
   "execution_count": 10,
   "metadata": {},
   "outputs": [
    {
     "data": {
      "text/plain": [
       "-2.7994956772175144"
      ]
     },
     "execution_count": 10,
     "metadata": {},
     "output_type": "execute_result"
    }
   ],
   "source": [
    "t_score = (x_bar - mu) / (s / np.sqrt(v)) \n",
    "t_score"
   ]
  },
  {
   "cell_type": "code",
   "execution_count": 11,
   "metadata": {},
   "outputs": [],
   "source": [
    "t_critical = -1.833 #T critical value for 9 degrees of freedom and 95% confidence"
   ]
  },
  {
   "cell_type": "code",
   "execution_count": 14,
   "metadata": {},
   "outputs": [
    {
     "data": {
      "text/plain": [
       "True"
      ]
     },
     "execution_count": 14,
     "metadata": {},
     "output_type": "execute_result"
    }
   ],
   "source": [
    "t_score <= t_critical"
   ]
  },
  {
   "cell_type": "markdown",
   "metadata": {},
   "source": [
    "We've come to the contradiction. Our t score is further to the left than our critical value and it falls into rejection region. Because of that, we can reject our null hypothesis. \n",
    "\n",
    "If we assume that our null hypothesis is true, it is so unlikely for us to pick out this random sample.\n",
    "\n",
    "Only possible alternative for us is H1 (alternative hypothesis)"
   ]
  }
 ],
 "metadata": {
  "kernelspec": {
   "display_name": "Python 3",
   "language": "python",
   "name": "python3"
  },
  "language_info": {
   "codemirror_mode": {
    "name": "ipython",
    "version": 3
   },
   "file_extension": ".py",
   "mimetype": "text/x-python",
   "name": "python",
   "nbconvert_exporter": "python",
   "pygments_lexer": "ipython3",
   "version": "3.6.7"
  }
 },
 "nbformat": 4,
 "nbformat_minor": 2
}
