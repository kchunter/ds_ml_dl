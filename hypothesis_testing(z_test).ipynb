{
 "cells": [
  {
   "cell_type": "markdown",
   "metadata": {},
   "source": [
    "HYPOTHESIS TESTING (Z-TEST) (ONE-TAILED)\n",
    "-------------------------------------------------------------------"
   ]
  },
  {
   "cell_type": "markdown",
   "metadata": {},
   "source": [
    "CASE: In 2015 millennials were watching 26.5 hours of TV a week with a standard deviation of 10 hours. Today you surveyed 50 millennials and found that they watch 24 hours of TV per week. Has the parameter decreased?"
   ]
  },
  {
   "cell_type": "markdown",
   "metadata": {},
   "source": [
    "H0: It has not decreased, i.e. mu >= 26.5\n",
    "\n",
    "H1: It has decreased, i.e. mu < 26.5\n",
    "\n",
    "mu -> population mean\n",
    "\n",
    "mu_x_bar -> mean of sampling distribution of the sample mean\n",
    "\n",
    "x_bar -> sample mean\n",
    "\n",
    "sigma -> population standard deviation\n",
    "\n",
    "sigma_x_bar -> standard deviation of sampling distribution of the sample mean\n",
    "\n",
    "z_score -> z-score for x_bar\n",
    "\n",
    "alpha -> significane level (probability of the study rejecting the null hypothesis, given that the null hypothesis were true)\n",
    "\n",
    "p -> p-value (probability of obtaining a result at least extreme, given that the null hypothesis were true)\n",
    "\n",
    "critical_value (z_critical) -> calculated from alpha level (it separates our area under\n",
    "the curve into rejection and accept region; different for one or two tailed\n",
    "curve\n",
    "\n",
    "n -> sample size\n",
    "\n",
    "A result has statistical significance when it is very unlikely to have occurred given the null hypothesis (The result is statistically significant, by the standards of the study, when p <= alpha)\n",
    "\n",
    "\n",
    "Central Limit Theorem\n",
    "--------------------------------\n",
    "\n",
    "mu = mu_x_bar\n",
    "\n",
    "sigma_x_bar = sigma / sqrt(n)"
   ]
  },
  {
   "cell_type": "code",
   "execution_count": 1,
   "metadata": {},
   "outputs": [],
   "source": [
    "import math"
   ]
  },
  {
   "cell_type": "code",
   "execution_count": 2,
   "metadata": {},
   "outputs": [],
   "source": [
    "mu = mu_x_bar = 26.5\n",
    "sigma = 10\n",
    "n = 50\n",
    "sigma_x_bar = sigma / math.sqrt(n)\n",
    "x_bar = 24\n",
    "z_score = (x_bar - mu_x_bar) / sigma_x_bar\n",
    "alpha = .05 #Most common value is .05 or 5%. Other common values are .001 or .01"
   ]
  },
  {
   "cell_type": "code",
   "execution_count": 3,
   "metadata": {},
   "outputs": [],
   "source": [
    "p = .0384 #or 3.84%. Z-Table. Probability of getting value that is lower or equal to x_bar."
   ]
  },
  {
   "cell_type": "code",
   "execution_count": 4,
   "metadata": {},
   "outputs": [
    {
     "data": {
      "text/plain": [
       "True"
      ]
     },
     "execution_count": 4,
     "metadata": {},
     "output_type": "execute_result"
    }
   ],
   "source": [
    "p <= alpha #Because p is less than or equal to alpha, we can conclude that result is statistically significant"
   ]
  },
  {
   "cell_type": "markdown",
   "metadata": {},
   "source": [
    "It is so unlikely that this happened at random given that null hypothesis is true. Something is going on. With a 95% confidence we are going to reject the null hypothesis. "
   ]
  },
  {
   "cell_type": "code",
   "execution_count": 5,
   "metadata": {},
   "outputs": [],
   "source": [
    "#Another way is through critical value and rejection region (It same thing)"
   ]
  },
  {
   "cell_type": "code",
   "execution_count": 6,
   "metadata": {},
   "outputs": [],
   "source": [
    "#For alpha = .05, critical value (or z-critical value) is equal to -1.65.\n",
    "#This values can be found in Z-Table"
   ]
  },
  {
   "cell_type": "code",
   "execution_count": 7,
   "metadata": {},
   "outputs": [],
   "source": [
    "z_critical = -1.65"
   ]
  },
  {
   "cell_type": "markdown",
   "metadata": {},
   "source": [
    "Our critical value is 1.65 standard deviations from the mean to the left side (because of - sign)\n",
    "\n",
    "This also means that probability of getting any value that is at least 1.65 standard deviations from the mean, is less than or equal to .05\n",
    "\n",
    "In this case, area under the curve that is to the left of the critical value is called rejection region.\n",
    "\n",
    "Result is statistically significant at a significance level (alpha) of .05\n",
    "\n",
    "And because our z-score of x_bar falls into rejection region, we can reject our null hypothesis and accept alternative hypothesis."
   ]
  },
  {
   "cell_type": "code",
   "execution_count": 8,
   "metadata": {},
   "outputs": [
    {
     "data": {
      "text/plain": [
       "True"
      ]
     },
     "execution_count": 8,
     "metadata": {},
     "output_type": "execute_result"
    }
   ],
   "source": [
    "z_score <= z_critical"
   ]
  },
  {
   "cell_type": "code",
   "execution_count": null,
   "metadata": {},
   "outputs": [],
   "source": []
  }
 ],
 "metadata": {
  "kernelspec": {
   "display_name": "Python 3",
   "language": "python",
   "name": "python3"
  },
  "language_info": {
   "codemirror_mode": {
    "name": "ipython",
    "version": 3
   },
   "file_extension": ".py",
   "mimetype": "text/x-python",
   "name": "python",
   "nbconvert_exporter": "python",
   "pygments_lexer": "ipython3",
   "version": "3.6.7"
  }
 },
 "nbformat": 4,
 "nbformat_minor": 2
}
